{
 "cells": [
  {
   "cell_type": "code",
   "execution_count": 87,
   "metadata": {
    "ExecuteTime": {
     "end_time": "2021-01-25T19:42:41.975554Z",
     "start_time": "2021-01-25T19:42:41.964505Z"
    }
   },
   "outputs": [],
   "source": [
    "class LinearRegression():\n",
    "    def __init__(self,a=0,b=0):\n",
    "        self.a=a\n",
    "        self.b=b\n",
    "\n",
    "    def loading(self,file):\n",
    "        import pandas as pd\n",
    "        self.data=pd.read_csv(f\"{file}\",header=None)\n",
    "        return self.data\n",
    "            \n",
    "    def covar(self,x,y):\n",
    "        import numpy as np\n",
    "        res=0\n",
    "        for i in range(len(x)): \n",
    "            res+=(x[i]-np.mean(x))*(y[i]-np.mean(y))\n",
    "        return res\n",
    "    \n",
    "    def var(self,x):\n",
    "        res2=0\n",
    "        import numpy as np\n",
    "        for i in range(len(x)):\n",
    "            res2+=(x[i]-np.mean(x))**2\n",
    "        return res2 \n",
    "    \n",
    "    def fit(self,x,y):\n",
    "        import numpy as np\n",
    "        self.b+=self.covar(x,y)/self.var(x)\n",
    "        self.a+=np.mean(y)-(self.b*np.mean(x))\n",
    "        return self\n",
    "    \n",
    "    def plot1(self,x,y):\n",
    "        import matplotlib.pyplot as plt\n",
    "        plt.scatter(x,y)\n",
    "    \n",
    "    def plot2(self,x):\n",
    "        import matplotlib.pyplot as plt\n",
    "        plt.plot(x,self.a+self.b*x)\n",
    "    \n",
    "    def plot3(self,x,y):\n",
    "        import matplotlib.pyplot as plt\n",
    "        plt.scatter(x,y)\n",
    "        plt.plot(x,self.a+x*self.b,color='#ff0000')\n",
    "        \n",
    "    def predict(self,x,y):\n",
    "        import numpy as np\n",
    "        mse=sum([(y[i]-(self.a+self.b*x[i]))**2 for i in range(len(x))])\n",
    "        rmse=np.sqrt(mse)\n",
    "        score=1-(mse/self.var(y))\n",
    "        return score\n"
   ]
  }
 ],
 "metadata": {
  "kernelspec": {
   "display_name": "Python 3",
   "language": "python",
   "name": "python3"
  },
  "language_info": {
   "codemirror_mode": {
    "name": "ipython",
    "version": 3
   },
   "file_extension": ".py",
   "mimetype": "text/x-python",
   "name": "python",
   "nbconvert_exporter": "python",
   "pygments_lexer": "ipython3",
   "version": "3.8.5"
  }
 },
 "nbformat": 4,
 "nbformat_minor": 2
}
