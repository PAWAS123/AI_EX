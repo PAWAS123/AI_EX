{
 "cells": [
  {
   "cell_type": "code",
   "execution_count": 5,
   "metadata": {
    "ExecuteTime": {
     "end_time": "2021-02-09T14:37:15.538444Z",
     "start_time": "2021-02-09T14:37:15.533563Z"
    }
   },
   "outputs": [],
   "source": [
    "import pandas as pd\n",
    "import numpy as np\n",
    "from sklearn.feature_extraction.text import CountVectorizer"
   ]
  },
  {
   "cell_type": "code",
   "execution_count": 12,
   "metadata": {
    "ExecuteTime": {
     "end_time": "2021-02-09T14:46:54.023106Z",
     "start_time": "2021-02-09T14:46:54.001633Z"
    }
   },
   "outputs": [
    {
     "data": {
      "text/html": [
       "<div>\n",
       "<style scoped>\n",
       "    .dataframe tbody tr th:only-of-type {\n",
       "        vertical-align: middle;\n",
       "    }\n",
       "\n",
       "    .dataframe tbody tr th {\n",
       "        vertical-align: top;\n",
       "    }\n",
       "\n",
       "    .dataframe thead th {\n",
       "        text-align: right;\n",
       "    }\n",
       "</style>\n",
       "<table border=\"1\" class=\"dataframe\">\n",
       "  <thead>\n",
       "    <tr style=\"text-align: right;\">\n",
       "      <th></th>\n",
       "      <th>category_name</th>\n",
       "      <th>category_id</th>\n",
       "    </tr>\n",
       "  </thead>\n",
       "  <tbody>\n",
       "    <tr>\n",
       "      <th>0</th>\n",
       "      <td>PC - Headsets / Headphones</td>\n",
       "      <td>0</td>\n",
       "    </tr>\n",
       "    <tr>\n",
       "      <th>1</th>\n",
       "      <td>Accessories - PS2</td>\n",
       "      <td>1</td>\n",
       "    </tr>\n",
       "    <tr>\n",
       "      <th>2</th>\n",
       "      <td>Accessories - PS3</td>\n",
       "      <td>2</td>\n",
       "    </tr>\n",
       "    <tr>\n",
       "      <th>3</th>\n",
       "      <td>Accessories - PS4</td>\n",
       "      <td>3</td>\n",
       "    </tr>\n",
       "    <tr>\n",
       "      <th>4</th>\n",
       "      <td>Accessories - PSP</td>\n",
       "      <td>4</td>\n",
       "    </tr>\n",
       "    <tr>\n",
       "      <th>...</th>\n",
       "      <td>...</td>\n",
       "      <td>...</td>\n",
       "    </tr>\n",
       "    <tr>\n",
       "      <th>79</th>\n",
       "      <td>Service</td>\n",
       "      <td>79</td>\n",
       "    </tr>\n",
       "    <tr>\n",
       "      <th>80</th>\n",
       "      <td>Service - Tickets</td>\n",
       "      <td>80</td>\n",
       "    </tr>\n",
       "    <tr>\n",
       "      <th>81</th>\n",
       "      <td>Blank media (spire)</td>\n",
       "      <td>81</td>\n",
       "    </tr>\n",
       "    <tr>\n",
       "      <th>82</th>\n",
       "      <td>Blank media (piece)</td>\n",
       "      <td>82</td>\n",
       "    </tr>\n",
       "    <tr>\n",
       "      <th>83</th>\n",
       "      <td>Batteries</td>\n",
       "      <td>83</td>\n",
       "    </tr>\n",
       "  </tbody>\n",
       "</table>\n",
       "<p>84 rows × 2 columns</p>\n",
       "</div>"
      ],
      "text/plain": [
       "                 category_name  category_id\n",
       "0   PC - Headsets / Headphones            0\n",
       "1            Accessories - PS2            1\n",
       "2            Accessories - PS3            2\n",
       "3            Accessories - PS4            3\n",
       "4            Accessories - PSP            4\n",
       "..                         ...          ...\n",
       "79                     Service           79\n",
       "80           Service - Tickets           80\n",
       "81         Blank media (spire)           81\n",
       "82        Blank media (piece)            82\n",
       "83                   Batteries           83\n",
       "\n",
       "[84 rows x 2 columns]"
      ]
     },
     "execution_count": 12,
     "metadata": {},
     "output_type": "execute_result"
    }
   ],
   "source": [
    "categ_data=pd.read_csv('categories.csv')\n",
    "categ_data"
   ]
  },
  {
   "cell_type": "code",
   "execution_count": 15,
   "metadata": {
    "ExecuteTime": {
     "end_time": "2021-02-09T14:53:08.726150Z",
     "start_time": "2021-02-09T14:53:08.719346Z"
    }
   },
   "outputs": [
    {
     "name": "stdout",
     "output_type": "stream",
     "text": [
      "{'pc': 70, 'headsets': 50, 'headphones': 49, 'accessories': 4, 'ps2': 75, 'ps3': 76, 'ps4': 77, 'psp': 79, 'psvita': 80, 'xbox': 96, '360': 1, 'one': 67, 'tickets': 91, 'digital': 33, 'delivery': 30, 'of': 65, 'goods': 47, 'game': 43, 'consoles': 28, 'others': 68, 'games': 44, 'android': 8, 'number': 64, 'mac': 56, 'additional': 5, 'editions': 35, 'collector': 24, 'standard': 89, 'payment': 69, 'cards': 19, 'cinema': 22, 'music': 63, 'live': 54, 'psn': 78, 'windows': 95, 'blu': 15, 'ray': 81, '3d': 2, '4k': 3, 'dvd': 34, 'books': 17, 'artbooks': 9, 'encyclopedias': 37, 'audiobooks': 11, 'digit': 32, '1c': 0, 'business': 18, 'literature': 53, 'comics': 25, 'manga': 57, 'computer': 27, 'methodological': 60, 'materials': 58, 'postcards': 72, 'cognitive': 23, 'guides': 48, 'fiction': 39, 'cd': 20, 'local': 55, 'production': 73, 'corporate': 29, 'mp3': 62, 'vinyl': 94, 'video': 93, 'gift': 45, 'gifts': 46, 'attributes': 10, 'gadgets': 42, 'robots': 82, 'sports': 88, 'soft': 85, 'toys': 92, 'board': 16, 'compact': 26, 'stickers': 90, 'development': 31, 'certificates': 21, 'services': 84, 'souvenirs': 86, 'hinged': 51, 'bags': 12, 'albums': 6, 'mousepads': 61, 'figures': 40, 'programs': 74, 'enterprise': 38, 'for': 41, 'home': 52, 'and': 7, 'office': 66, 'educational': 36, 'service': 83, 'blank': 14, 'media': 59, 'spire': 87, 'piece': 71, 'batteries': 13}\n",
      "[[0 0 0 ... 0 0 0]\n",
      " [0 0 0 ... 0 0 0]\n",
      " [0 0 0 ... 0 0 0]\n",
      " ...\n",
      " [0 0 0 ... 0 0 0]\n",
      " [0 0 0 ... 0 0 0]\n",
      " [0 0 0 ... 0 0 0]]\n"
     ]
    }
   ],
   "source": [
    "vec=CountVectorizer()\n",
    "#vec.fit_transform(item_data).toarray()\n",
    "vector=vec.fit_transform(categ_data['category_name'])\n",
    "print(vec.vocabulary_)\n",
    "print(vector.toarray())"
   ]
  }
 ],
 "metadata": {
  "kernelspec": {
   "display_name": "Python 3",
   "language": "python",
   "name": "python3"
  },
  "language_info": {
   "codemirror_mode": {
    "name": "ipython",
    "version": 3
   },
   "file_extension": ".py",
   "mimetype": "text/x-python",
   "name": "python",
   "nbconvert_exporter": "python",
   "pygments_lexer": "ipython3",
   "version": "3.8.5"
  }
 },
 "nbformat": 4,
 "nbformat_minor": 4
}
